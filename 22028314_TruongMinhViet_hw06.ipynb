{
  "nbformat": 4,
  "nbformat_minor": 0,
  "metadata": {
    "colab": {
      "provenance": []
    },
    "kernelspec": {
      "name": "python3",
      "display_name": "Python 3"
    },
    "language_info": {
      "name": "python"
    }
  },
  "cells": [
    {
      "cell_type": "code",
      "execution_count": 2,
      "metadata": {
        "id": "rGl47swma6lP"
      },
      "outputs": [],
      "source": [
        "# Run this cell, but please don't change it.\n",
        "\n",
        "# These lines import the Numpy and Datascience modules.\n",
        "import numpy as np\n",
        "from datascience import *\n",
        "\n",
        "# These lines do some fancy plotting magic\n",
        "import matplotlib\n",
        "%matplotlib inline\n",
        "import matplotlib.pyplot as plt\n",
        "plt.style.use('fivethirtyeight')\n",
        "import warnings\n",
        "warnings.simplefilter('ignore', FutureWarning)\n",
        "from matplotlib import patches\n",
        "from ipywidgets import interact, interactive, fixed\n",
        "import ipywidgets as widgets"
      ]
    },
    {
      "cell_type": "code",
      "source": [
        "expected_proportion_correct = 0.5\n",
        "expected_proportion_correct"
      ],
      "metadata": {
        "colab": {
          "base_uri": "https://localhost:8080/"
        },
        "id": "TpFCRuabfkIE",
        "outputId": "22523af2-d2b5-4540-81cd-69c3aab24424"
      },
      "execution_count": 3,
      "outputs": [
        {
          "output_type": "execute_result",
          "data": {
            "text/plain": [
              "0.5"
            ]
          },
          "metadata": {},
          "execution_count": 3
        }
      ]
    },
    {
      "cell_type": "code",
      "source": [
        "valid_stat = make_array(2)\n",
        "valid_stat"
      ],
      "metadata": {
        "colab": {
          "base_uri": "https://localhost:8080/"
        },
        "id": "X0Ac0N58gaAw",
        "outputId": "8eaeabdf-ce62-4b5e-bdc5-f1cd712224ed"
      },
      "execution_count": 4,
      "outputs": [
        {
          "output_type": "execute_result",
          "data": {
            "text/plain": [
              "array([2])"
            ]
          },
          "metadata": {},
          "execution_count": 4
        }
      ]
    },
    {
      "cell_type": "code",
      "source": [
        "def statistic(expected_prop, actual_prop):\n",
        "    difference = abs(expected_prop - actual_prop)\n",
        "    percentage = difference * 100\n",
        "    return percentage"
      ],
      "metadata": {
        "id": "yZQmhJ_QSxgc"
      },
      "execution_count": 5,
      "outputs": []
    },
    {
      "cell_type": "code",
      "source": [
        "observed_statistic = statistic(0.5, 0.44)\n",
        "observed_statistic"
      ],
      "metadata": {
        "colab": {
          "base_uri": "https://localhost:8080/"
        },
        "id": "7rhRCN7_S-Oe",
        "outputId": "ed834d3f-7f95-4064-aabc-7505845fa43b"
      },
      "execution_count": 6,
      "outputs": [
        {
          "output_type": "execute_result",
          "data": {
            "text/plain": [
              "6.0"
            ]
          },
          "metadata": {},
          "execution_count": 6
        }
      ]
    },
    {
      "cell_type": "code",
      "source": [
        "np.random.seed(16)\n",
        "\n",
        "model_proportions = [0.5, 0.5]\n",
        "simulation_proportions = np.random.multinomial(210, model_proportions) / 210\n",
        "simulation_proportion_correct = simulation_proportions[0]\n",
        "one_statistic = statistic(0.5, simulation_proportion_correct)\n",
        "one_statistic"
      ],
      "metadata": {
        "colab": {
          "base_uri": "https://localhost:8080/"
        },
        "id": "iD9XuAGc3BaE",
        "outputId": "46623def-bae9-404c-b629-b25318a161b6"
      },
      "execution_count": 7,
      "outputs": [
        {
          "output_type": "execute_result",
          "data": {
            "text/plain": [
              "0.95238095238095455"
            ]
          },
          "metadata": {},
          "execution_count": 7
        }
      ]
    },
    {
      "cell_type": "code",
      "source": [
        "def simulation_and_statistic(model_proportions, expected_proportion_correct):\n",
        "  simulation_proportions = np.random.multinomial(210, model_proportions) / 210\n",
        "  simulation_proportion_correct = simulation_proportions[0]\n",
        "  one_statistic = statistic(expected_proportion_correct, simulation_proportion_correct)\n",
        "  return one_statistic\n",
        "\n",
        "num_repetitions = 1000\n",
        "simulated_statistics = np.array([])\n",
        "for _ in range(num_repetitions):\n",
        "  simulated_statistics = np.append(simulated_statistics, simulation_and_statistic([0.5, 0.5], 0.5))\n",
        ""
      ],
      "metadata": {
        "id": "_1iyVuXY3SNh"
      },
      "execution_count": 9,
      "outputs": []
    },
    {
      "cell_type": "code",
      "source": [
        "observed_statistic = 6.0\n",
        "count_greater_or_equal = np.count_nonzero(simulated_statistics >= observed_statistic)\n",
        "proportion_greater_or_equal = count_greater_or_equal / num_repetitions\n",
        "\n",
        "proportion_greater_or_equal"
      ],
      "metadata": {
        "colab": {
          "base_uri": "https://localhost:8080/"
        },
        "id": "IH-R-OTF34H9",
        "outputId": "e7d3e172-0d72-461c-9a5d-7c82bafdcf56"
      },
      "execution_count": 11,
      "outputs": [
        {
          "output_type": "execute_result",
          "data": {
            "text/plain": [
              "0.076"
            ]
          },
          "metadata": {},
          "execution_count": 11
        }
      ]
    },
    {
      "cell_type": "code",
      "source": [
        "peer_talk = False\n",
        "peer_talk"
      ],
      "metadata": {
        "colab": {
          "base_uri": "https://localhost:8080/"
        },
        "id": "NHNSK0jc4cHv",
        "outputId": "bd96fd81-c349-4287-a6e9-f161956710ca"
      },
      "execution_count": 12,
      "outputs": [
        {
          "output_type": "execute_result",
          "data": {
            "text/plain": [
              "False"
            ]
          },
          "metadata": {},
          "execution_count": 12
        }
      ]
    }
  ]
}